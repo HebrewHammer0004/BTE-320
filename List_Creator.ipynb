{
  "nbformat": 4,
  "nbformat_minor": 0,
  "metadata": {
    "colab": {
      "provenance": [],
      "authorship_tag": "ABX9TyPTMn6CbCays4SyfnBtoxjk",
      "include_colab_link": true
    },
    "kernelspec": {
      "name": "python3",
      "display_name": "Python 3"
    },
    "language_info": {
      "name": "python"
    }
  },
  "cells": [
    {
      "cell_type": "markdown",
      "metadata": {
        "id": "view-in-github",
        "colab_type": "text"
      },
      "source": [
        "<a href=\"https://colab.research.google.com/github/HebrewHammer0004/BTE-320/blob/main/List_Creator.ipynb\" target=\"_parent\"><img src=\"https://colab.research.google.com/assets/colab-badge.svg\" alt=\"Open In Colab\"/></a>"
      ]
    },
    {
      "cell_type": "code",
      "execution_count": 4,
      "metadata": {
        "colab": {
          "base_uri": "https://localhost:8080/"
        },
        "id": "wIfpptLKpuBW",
        "outputId": "7585f839-48fd-4e57-b1bf-8f1634d24e06"
      },
      "outputs": [
        {
          "output_type": "stream",
          "name": "stdout",
          "text": [
            "Enter Value for List: 20\n",
            "Enter Value for List: 12\n",
            "Enter Value for List: 14\n",
            "Enter Value for List: 17\n",
            "Enter Value for List: 2\n",
            "Enter Value for List: 4\n",
            "Enter Value for List: 5\n",
            "Enter Value for List: 87\n",
            "Enter Value for List: 10\n",
            "Enter Value for List: 111\n",
            "Enter Value for List: 13\n",
            "Enter Value for List: 16\n",
            "Enter Value for List: 18\n",
            "Enter Value for List: 19\n",
            "Enter Value for List: 19\n",
            "Enter Value for List: 0\n",
            "Final List:  [20, 12, 14, 17, 2, 4, 5, 87, 10, 111, 13, 16, 18, 19, 19]\n"
          ]
        }
      ],
      "source": [
        "L = []\n",
        "userinput = int(input('Enter Value for List: '))\n",
        "\n",
        "while userinput != 0:\n",
        "  L.append(userinput)\n",
        "  userinput = int(input('Enter Value for List: '))\n",
        "\n",
        "print('Final List: ', L)"
      ]
    }
  ]
}