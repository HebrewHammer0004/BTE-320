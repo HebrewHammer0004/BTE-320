{
  "nbformat": 4,
  "nbformat_minor": 0,
  "metadata": {
    "colab": {
      "provenance": [],
      "authorship_tag": "ABX9TyNZ1qIupkQpzDXketN8zTmn",
      "include_colab_link": true
    },
    "kernelspec": {
      "name": "python3",
      "display_name": "Python 3"
    },
    "language_info": {
      "name": "python"
    }
  },
  "cells": [
    {
      "cell_type": "markdown",
      "metadata": {
        "id": "view-in-github",
        "colab_type": "text"
      },
      "source": [
        "<a href=\"https://colab.research.google.com/github/HebrewHammer0004/BTE-320/blob/main/Date_Assignment.ipynb\" target=\"_parent\"><img src=\"https://colab.research.google.com/assets/colab-badge.svg\" alt=\"Open In Colab\"/></a>"
      ]
    },
    {
      "cell_type": "code",
      "execution_count": 1,
      "metadata": {
        "colab": {
          "base_uri": "https://localhost:8080/"
        },
        "id": "LIgQTtGcxGM7",
        "outputId": "b1bf77e1-bb9c-464a-9135-81a79c0c0c7d"
      },
      "outputs": [
        {
          "output_type": "stream",
          "name": "stdout",
          "text": [
            "Enter date: (MM / DD / YYYY)08/13.2003\n",
            "Month: 08\n",
            "Day: 13\n",
            "Year: 2003\n"
          ]
        }
      ],
      "source": [
        "date = input('Enter date: (MM / DD / YYYY)')\n",
        "\n",
        "month = date[0:2]\n",
        "day = date[3:5]\n",
        "year = date[6:]\n",
        "\n",
        "print('Month:', month)\n",
        "print('Day:', day)\n",
        "print('Year:', year)\n"
      ]
    }
  ]
}