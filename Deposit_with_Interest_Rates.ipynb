{
  "nbformat": 4,
  "nbformat_minor": 0,
  "metadata": {
    "colab": {
      "provenance": [],
      "authorship_tag": "ABX9TyM2o9y2GQC81o46P2mfxlg4",
      "include_colab_link": true
    },
    "kernelspec": {
      "name": "python3",
      "display_name": "Python 3"
    },
    "language_info": {
      "name": "python"
    }
  },
  "cells": [
    {
      "cell_type": "markdown",
      "metadata": {
        "id": "view-in-github",
        "colab_type": "text"
      },
      "source": [
        "<a href=\"https://colab.research.google.com/github/HebrewHammer0004/BTE-320/blob/main/Deposit_with_Interest_Rates.ipynb\" target=\"_parent\"><img src=\"https://colab.research.google.com/assets/colab-badge.svg\" alt=\"Open In Colab\"/></a>"
      ]
    },
    {
      "cell_type": "code",
      "execution_count": 4,
      "metadata": {
        "colab": {
          "base_uri": "https://localhost:8080/"
        },
        "id": "DjXa5gQRQnnd",
        "outputId": "b8d3aa9a-ea02-42dc-f34e-035cf8c3f8eb"
      },
      "outputs": [
        {
          "output_type": "stream",
          "name": "stdout",
          "text": [
            "Enter your name: Simon\n",
            "Enter customer type(n: new, e:exisitng): e\n",
            "Enter depositamount (in $): 1000\n",
            "1030.0\n"
          ]
        }
      ],
      "source": [
        "Name = input('Enter your name: ')\n",
        "customer_type = input('Enter customer type(n: new, e:exisitng): ')\n",
        "deposit = float(input(\"Enter depositamount (in $): \"))\n",
        "if customer_type =='n':\n",
        "  interest = 0.03\n",
        "else:\n",
        "  if deposit <= 1000:\n",
        "    interest = 0.03\n",
        "  elif deposit <= 10000:\n",
        "    interest = 0.0325\n",
        "  elif deposit > 10000:\n",
        "    interest = 0.035\n",
        "\n",
        "total = (1+ interest) * deposit\n",
        "print(total)"
      ]
    }
  ]
}