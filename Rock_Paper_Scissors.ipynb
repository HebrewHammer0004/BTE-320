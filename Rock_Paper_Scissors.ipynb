{
  "nbformat": 4,
  "nbformat_minor": 0,
  "metadata": {
    "colab": {
      "provenance": [],
      "authorship_tag": "ABX9TyM4jyfNaO+HQJCPpxogu8Vd",
      "include_colab_link": true
    },
    "kernelspec": {
      "name": "python3",
      "display_name": "Python 3"
    },
    "language_info": {
      "name": "python"
    }
  },
  "cells": [
    {
      "cell_type": "markdown",
      "metadata": {
        "id": "view-in-github",
        "colab_type": "text"
      },
      "source": [
        "<a href=\"https://colab.research.google.com/github/HebrewHammer0004/BTE-320/blob/main/Rock_Paper_Scissors.ipynb\" target=\"_parent\"><img src=\"https://colab.research.google.com/assets/colab-badge.svg\" alt=\"Open In Colab\"/></a>"
      ]
    },
    {
      "cell_type": "code",
      "execution_count": 3,
      "metadata": {
        "id": "JjB3HNcLqk66",
        "colab": {
          "base_uri": "https://localhost:8080/"
        },
        "outputId": "f76a02a2-2c2f-49e2-87cd-98601ca3f0ad"
      },
      "outputs": [
        {
          "output_type": "stream",
          "name": "stdout",
          "text": [
            "Enter your selection: [rock, paper, scissors]paper\n",
            "scissors\n",
            "paper\n",
            "PC wins\n",
            "Would you like to play again (y/n)y\n",
            "Game Over\n",
            "Enter your selection: [rock, paper, scissors]scissors\n",
            "rock\n",
            "scissors\n",
            "PC wins\n",
            "Would you like to play again (y/n)n\n",
            "Game Over\n"
          ]
        }
      ],
      "source": [
        "import random\n",
        "\n",
        "userinput = \"y\"\n",
        "\n",
        "while userinput == \"y\":\n",
        "  pc_choice = random.choice(['rock', 'paper', 'scissors'])\n",
        "  x = input(\"Enter your selection: [rock, paper, scissors]\")\n",
        "  print(pc_choice)\n",
        "  print(x)\n",
        "  if x == pc_choice:\n",
        "    result = 'Draw'\n",
        "  elif x == 'paper' and pc_choice == 'rock' or x == 'rock' and pc_choice == 'scissors' or x == 'scissors' and pc_choice == 'paper':\n",
        "    result = 'Player wins'\n",
        "  else:\n",
        "    result = 'PC wins'\n",
        "  print(result)\n",
        "  userinput = input(\"Would you like to play again (y/n)\")\n",
        "\n",
        "  print(\"Game Over\")"
      ]
    }
  ]
}