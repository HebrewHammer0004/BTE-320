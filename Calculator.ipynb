{
  "nbformat": 4,
  "nbformat_minor": 0,
  "metadata": {
    "colab": {
      "provenance": [],
      "authorship_tag": "ABX9TyOJ+VsXXQK/hMO17/oG/HdS",
      "include_colab_link": true
    },
    "kernelspec": {
      "name": "python3",
      "display_name": "Python 3"
    },
    "language_info": {
      "name": "python"
    }
  },
  "cells": [
    {
      "cell_type": "markdown",
      "metadata": {
        "id": "view-in-github",
        "colab_type": "text"
      },
      "source": [
        "<a href=\"https://colab.research.google.com/github/HebrewHammer0004/BTE-320/blob/main/Calculator.ipynb\" target=\"_parent\"><img src=\"https://colab.research.google.com/assets/colab-badge.svg\" alt=\"Open In Colab\"/></a>"
      ]
    },
    {
      "cell_type": "code",
      "execution_count": 5,
      "metadata": {
        "colab": {
          "base_uri": "https://localhost:8080/"
        },
        "id": "70MeVEepsVNz",
        "outputId": "9fd119a5-3c76-42d3-e77f-9c5311b8b6d4"
      },
      "outputs": [
        {
          "name": "stdout",
          "output_type": "stream",
          "text": [
            "Enter first number: 18\n",
            "Function: *\n",
            "Enter second number: 3\n",
            "Result: 54.0\n",
            "Enter first number: 10\n",
            "Function: *\n",
            "Enter second number: 19\n",
            "Result: 190.0\n",
            "Enter first number: 12\n",
            "Function: break\n"
          ]
        }
      ],
      "source": [
        "while True:\n",
        "  a = float(input('Enter first number: '))\n",
        "  function = input('Function: ')\n",
        "  if function == 'break':\n",
        "    break\n",
        "  b = float(input('Enter second number: '))\n",
        "  if function == '/':\n",
        "    answer = a / b\n",
        "  elif function == '*':\n",
        "    answer = a * b\n",
        "  elif function == '+':\n",
        "    answer = a + b\n",
        "  elif function == '-':\n",
        "    answer = a - b\n",
        "  elif function == '**':\n",
        "    answer = a ** b\n",
        "  elif function == '%':\n",
        "    answer = a % b\n",
        "  elif function == '//':\n",
        "    answer = a // b\n",
        "  else:\n",
        "    print('Invalid operator:', operator)\n",
        "    continue\n",
        "  print('Result:', answer)"
      ]
    }
  ]
}